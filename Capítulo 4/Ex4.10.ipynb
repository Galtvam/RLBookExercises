{
 "cells": [
  {
   "cell_type": "markdown",
   "metadata": {},
   "source": [
    "### Exercise 4.10:\n",
    "What is the analog of the value iteration update (4.10) for action values,\n",
    "q k+1 (s, a)?"
   ]
  },
  {
   "cell_type": "markdown",
   "metadata": {},
   "source": [
    "#### R:\n",
    "$ q_{k+1}(s,a) = E[R_{k+1} + \\gamma max_{a'}q_{k}(S_{k+1}, a')] $\n",
    "\n",
    "$ \\qquad \\quad = \\sum_{s', r}p(s',r|s, a)[r + \\gamma max_{a'}q_{k}(s', a')] $  "
   ]
  }
 ],
 "metadata": {
  "kernelspec": {
   "display_name": "Python 3",
   "language": "python",
   "name": "python3"
  },
  "language_info": {
   "codemirror_mode": {
    "name": "ipython",
    "version": 3
   },
   "file_extension": ".py",
   "mimetype": "text/x-python",
   "name": "python",
   "nbconvert_exporter": "python",
   "pygments_lexer": "ipython3",
   "version": "3.7.3"
  }
 },
 "nbformat": 4,
 "nbformat_minor": 2
}
