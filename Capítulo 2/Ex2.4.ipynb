{
 "cells": [
  {
   "cell_type": "markdown",
   "metadata": {},
   "source": [
    "### Exercise 2.4\n",
    "If the step-size parameters $ \\alpha_{n}$, are not constant, then the estimate $ Q_{n} $ is a weighted average of previously received rewards with a weighting different from that given by (2.6). What is the weighting on each prior reward for the general case, analogousto (2.6), in terms of the sequence of step-size parameters?"
   ]
  },
  {
   "cell_type": "markdown",
   "metadata": {},
   "source": [
    "#### R:\n",
    "\n",
    "$Q_{n+1} = Q_{n} + \\frac{1}{n}[R_{n}-Q_{n}]$ \n",
    "\n",
    "$= \\frac{1}{n}R_{n} + Q_{n} - \\frac{1}{n}Q_{n}$ \n",
    "\n",
    "$= \\frac{1}{n}R_{n} + (1 - \\frac{1}{n})Q_{n}$ \n",
    "\n",
    "$= \\frac{1}{n}R_{n} + (1 - \\frac{1}{n})[\\frac{1}{n-1}R_{n-1} + (1-\\frac{1}{n-1})Q_{n-1}]$ \n",
    "\n",
    "$= \\frac{1}{n}R_{n} + [(1 - \\frac{1}{n})\\frac{1}{n-1}R_{n-1} + (1 - \\frac{1}{n})(1-\\frac{1}{n-1})Q_{n-1}]$\n",
    "\n",
    "$= \\frac{1}{n}R_{n} + [(1 - \\frac{1}{n})(\\frac{1}{n-1})R_{n-1} + (1 - \\frac{1}{n})(1-\\frac{1}{n-1})[(\\frac{1}{n-2})R_{n-2} + (1-\\frac{1}{n-2})Q_{n-2})]]$ \n",
    "\n",
    "$ ... $\n",
    "\n",
    "$= \\frac{1}{n}R_{n} + \\sum_{i=1}^{n-1}R_{i}(\\frac{1}{i}) \\prod_{k=i+1}^{n}(1-\\frac{1}{k})$ \n",
    "\n",
    "Portanto o $ R_{n} $ será ponderado por $ \\frac{1}{n} $ e os demais $ R_{i} $'s influenciarão $ (\\frac{1}{i}) \\prod_{k=i+1}^{n}(1-\\frac{1}{k}) $ no resultado."
   ]
  },
  {
   "cell_type": "code",
   "execution_count": null,
   "metadata": {},
   "outputs": [],
   "source": []
  }
 ],
 "metadata": {
  "kernelspec": {
   "display_name": "Python 3",
   "language": "python",
   "name": "python3"
  },
  "language_info": {
   "codemirror_mode": {
    "name": "ipython",
    "version": 3
   },
   "file_extension": ".py",
   "mimetype": "text/x-python",
   "name": "python",
   "nbconvert_exporter": "python",
   "pygments_lexer": "ipython3",
   "version": "3.7.3"
  }
 },
 "nbformat": 4,
 "nbformat_minor": 2
}
