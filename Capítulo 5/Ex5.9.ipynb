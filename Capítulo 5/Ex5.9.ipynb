{
 "cells": [
  {
   "cell_type": "markdown",
   "metadata": {},
   "source": [
    "### Exercise 5.9\n",
    "Modify the algorithm for first-visit MC policy evaluation (Section 5.1) to\n",
    "use the incremental implementation for sample averages described in Section 2.4."
   ]
  },
  {
   "cell_type": "markdown",
   "metadata": {},
   "source": [
    "#### R:\n",
    "\n",
    "$\\ Input: \ a \ policy \ \pi \ to \ be \ evaluated \\ Initialize: \\ >V(s) \in \mathbb{R},\ arbitrarily,\ for\ all\ s \in S \\ >C(s) \leftarrow 0,\ for\ all\ s \in S \\Loop\ forever\ (for\ each\ episode): \\ >Generate\ an\ episode\ following\ \pi :\ S_{0},\ A_{0},\ R_{1},\ S_{1},\ A_{1},\ R_{2} ,\ . . . ,\ S_{T} \\ >G\leftarrow 0 \\ >Loop\ for\ each\ step\ of\ episode,\ t = T_{1}, T_{2}, . . . , 0: \\ >>G = \gamma G + R_{t+1} \\ >>Unless\ S_{t}\ appears\ in\ S_{,} ,\ S_{1} , . . . ,\ S_{t-1} : \\ >>>C(S_{t}) = C(S_{t}) + 1 \\ >>>V (S_{t}) = V (S_{t}) + \frac{1}{C(S_{t})}[G - V (S_{t})]$ "
   ]
  },
  {
   "cell_type": "code",
   "execution_count": null,
   "metadata": {},
   "outputs": [],
   "source": []
  }
 ],
 "metadata": {
  "kernelspec": {
   "display_name": "Python 3",
   "language": "python",
   "name": "python3"
  },
  "language_info": {
   "codemirror_mode": {
    "name": "ipython",
    "version": 3
   },
   "file_extension": ".py",
   "mimetype": "text/x-python",
   "name": "python",
   "nbconvert_exporter": "python",
   "pygments_lexer": "ipython3",
   "version": "3.7.3"
  }
 },
 "nbformat": 4,
 "nbformat_minor": 2
}
