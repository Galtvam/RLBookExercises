{
 "cells": [
  {
   "cell_type": "markdown",
   "metadata": {},
   "source": [
    "### Exercise 5.9\n",
    "Modify the algorithm for first-visit MC policy evaluation (Section 5.1) to\n",
    "use the incremental implementation for sample averages described in Section 2.4."
   ]
  },
  {
   "cell_type": "markdown",
   "metadata": {},
   "source": [
    "#### R:\n",
    "\n",
    "$ Input: \\enspace a \\enspace policy \\enspace \\pi \\enspace to \\enspace be \\enspace evaluated $\n",
    "\n",
    "$ Initialize: $\n",
    "\n",
    "$ \\qquad V(s) \\in \\mathbb{R},\\enspace arbitrarily,\\enspace for\\enspace all\\enspace s \\in S $\n",
    "\n",
    "$ \\qquad C(s) \\leftarrow 0,\\enspace for\\enspace all\\enspace s \\in S $\n",
    "\n",
    "$ Loop\\enspace forever\\enspace (for\\enspace each\\enspace episode): $\n",
    "\n",
    "$ \\qquad Generate\\enspace an\\enspace episode\\enspace following\\enspace \\pi :\\enspace S_{0},\\enspace A_{0},\\enspace R_{1},\\enspace S_{1},\\enspace A_{1},\\enspace R_{2} ,\\enspace . . . ,\\enspace S_{T} $\n",
    "\n",
    "$ \\qquad G\\leftarrow 0 $\n",
    "\n",
    "$ \\qquad Loop\\enspace for\\enspace each\\enspace step\\enspace of\\enspace episode,\\enspace t\\enspace =\\enspace T_{1},\\enspace T_{2},\\enspace . . . ,\\enspace 0: $\n",
    "\n",
    "$ \\qquad \\qquad G = \\gamma G + R_{t+1} $\n",
    "\n",
    "$ \\qquad \\qquad Unless\\enspace S_{t}\\enspace appears\\enspace in\\enspace S_{0},\\enspace S_{1},\\enspace ... ,\\enspace S_{t-1} : $\n",
    "\n",
    "$ \\qquad \\qquad \\qquad C(S_{t}) = C(S_{t}) + 1 $\n",
    "\n",
    "$ \\qquad \\qquad \\qquad V (S_{t}) = V (S_{t}) + \\frac{1}{C(S_{t})}[G - V (S_{t})]$  "
    ]
   }
 ],
 "metadata": {
  "kernelspec": {
   "display_name": "Python 3",
   "language": "python",
   "name": "python3"
  },
  "language_info": {
   "codemirror_mode": {
    "name": "ipython",
    "version": 3
   },
   "file_extension": ".py",
   "mimetype": "text/x-python",
   "name": "python",
   "nbconvert_exporter": "python",
   "pygments_lexer": "ipython3",
   "version": "3.7.3"
  }
 },
 "nbformat": 4,
 "nbformat_minor": 2
}
