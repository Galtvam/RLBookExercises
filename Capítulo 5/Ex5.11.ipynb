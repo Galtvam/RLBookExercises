{
 "cells": [
  {
   "cell_type": "markdown",
   "metadata": {},
   "source": [
    "## Exercise 5.11:\n",
    "In the boxed algorithm for o↵-policy MC control, you may have been expecting the W update to have involved the importance-sampling ratio $ \\frac{\\pi (A_{t}|S_{t})}{b(A_{t}|S_{t})} $ , but instead it involves $ \\frac{1}{b(A_{t}|S_{t})} $ . Why is this nevertheless correct?"
   ]
  },
  {
   "cell_type": "markdown",
   "metadata": {},
   "source": [
    "#### R:\n",
    "Isso é porque a política $ \\pi $ se comporta de maneira greedy, escolhendo suas ações seguindo $ argmax_{a}Q(S_{t}, a) $, portanto o $ \\pi (A_{t}|S_{t}) $ é 1. Em outras palavras, a política sempre tomará tal ação nesse estado, sendo assim $ \\frac{\\pi (A_{t}|S_{t})}{b(A_{t}|S_{t})} = \\frac{1}{b(A_{t}|S_{t})} $"
   ]
  },
  {
   "cell_type": "code",
   "execution_count": null,
   "metadata": {},
   "outputs": [],
   "source": []
  }
 ],
 "metadata": {
  "kernelspec": {
   "display_name": "Python 3",
   "language": "python",
   "name": "python3"
  },
  "language_info": {
   "codemirror_mode": {
    "name": "ipython",
    "version": 3
   },
   "file_extension": ".py",
   "mimetype": "text/x-python",
   "name": "python",
   "nbconvert_exporter": "python",
   "pygments_lexer": "ipython3",
   "version": "3.7.3"
  }
 },
 "nbformat": 4,
 "nbformat_minor": 2
}
