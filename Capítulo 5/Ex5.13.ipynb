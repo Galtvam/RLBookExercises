{
 "cells": [
  {
   "cell_type": "markdown",
   "metadata": {},
   "source": [
    "### Exercise 5.13\n",
    "Show the steps to derive (5.14) from (5.12)."
   ]
  },
  {
   "cell_type": "markdown",
   "metadata": {},
   "source": [
    "#### R:\n",
    "$ E[\\rho _{t:T-1}R_{t+1}] = E[\\rho _{t:t}\\ \\rho _{t+1:T-1}R_{t+1}] $\n",
    "\n",
    "$  = E[\\rho _{t:t}R_{t+1}]E[\\rho _{t+1:T-1}] $\n",
    "\n",
    "$  = E[\\rho _{t:t}R_{t+1}]E[\\prod_{k=t+1}^{T-1}\\frac{\\pi (A_{k}|S_{k})}{b(A_{k}|S_{k})}] $\n",
    "\n",
    "$  = E[\\rho _{t:t}R_{t+1}]\\prod_{k=t+1}^{T-1}E[\\frac{\\pi (A_{k}|S_{k})}{b(A_{k}|S_{k})}] $\n",
    "\n",
    " e de acordo com (5.13)\n",
    " \n",
    "$ E[\\frac{\\pi (A_{t}|S_{t})}{b(A_{t}|S_{t})}] = 1 $\n",
    "\n",
    " então\n",
    " \n",
    "$  = E[\\rho _{t:t}R_{t+1}] $\n",
    "\n"
   ]
  }
 ],
 "metadata": {
  "kernelspec": {
   "display_name": "Python 3",
   "language": "python",
   "name": "python3"
  },
  "language_info": {
   "codemirror_mode": {
    "name": "ipython",
    "version": 3
   },
   "file_extension": ".py",
   "mimetype": "text/x-python",
   "name": "python",
   "nbconvert_exporter": "python",
   "pygments_lexer": "ipython3",
   "version": "3.7.3"
  }
 },
 "nbformat": 4,
 "nbformat_minor": 2
}
