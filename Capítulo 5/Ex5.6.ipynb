{
 "cells": [
  {
   "cell_type": "markdown",
   "metadata": {},
   "source": [
    "### Exercise 5.6:\n",
    "What is the equation analogous to (5.6) for action values $Q(s, a)$ instead of\n",
    "state values $V(s)$, again given returns generated using $b$?"
   ]
  },
  {
   "cell_type": "markdown",
   "metadata": {},
   "source": [
    "#### R:\n",
    "Precisa-se fazer um ajuste em $ \\tau(s) $, usaremos em seu lugar a função $ \\vartheta(s, a) $ que armazena o time-step $t$ onde o par state-action $(s, a)$ apareceu.  \n",
    "  \n",
    "Portanto a formula (5.6) ajustada para $Q(s,a)$ é:\n",
    "  \n",
    "$Q(s, a) = \\frac{\\sum_{t\\in \\vartheta(s, a)}\\rho_{t:T(t)-1}G_{t}}{\\sum_{t\\in \\vartheta(s, a)}\\rho_{t:T(t)-1}}$ "
   ]
  },
  {
   "cell_type": "code",
   "execution_count": null,
   "metadata": {},
   "outputs": [],
   "source": []
  }
 ],
 "metadata": {
  "kernelspec": {
   "display_name": "Python 3",
   "language": "python",
   "name": "python3"
  },
  "language_info": {
   "codemirror_mode": {
    "name": "ipython",
    "version": 3
   },
   "file_extension": ".py",
   "mimetype": "text/x-python",
   "name": "python",
   "nbconvert_exporter": "python",
   "pygments_lexer": "ipython3",
   "version": "3.7.3"
  }
 },
 "nbformat": 4,
 "nbformat_minor": 2
}
