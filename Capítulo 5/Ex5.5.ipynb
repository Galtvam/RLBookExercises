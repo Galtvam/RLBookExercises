{
 "cells": [
  {
   "cell_type": "markdown",
   "metadata": {},
   "source": [
    "### Exercise 5.5:\n",
    "Consider an MDP with a single nonterminal state and a single action\n",
    "that transitions back to the nonterminal state with probability $p$ and transitions to the\n",
    "terminal state with probability 1 $p$. Let the reward be +1 on all transitions, and let $ \\gamma  $ = 1. Suppose you observe one episode that lasts 10 steps, with a return of 10. What are the first-visit and every-visit estimators of the value of the nonterminal state?"
   ]
  },
  {
   "cell_type": "markdown",
   "metadata": {},
   "source": [
    "#### R:\n",
    "O estado nonterminal foi visitado 9 vezes, considerando que $\\gamma = 1$ os retornos do estado nonterminal foram: 1, 2, 3, 4, 5, 6, 7, 8, 9.  \n",
    "  \n",
    "Para o caso do first-visit a estimativa do estado nonterminal é igual a 9.  \n",
    "Para o caso do every-visit a estimativa é a média dos retornos, portanto 5."
   ]
  },
  {
   "cell_type": "code",
   "execution_count": null,
   "metadata": {},
   "outputs": [],
   "source": []
  }
 ],
 "metadata": {
  "kernelspec": {
   "display_name": "Python 3",
   "language": "python",
   "name": "python3"
  },
  "language_info": {
   "codemirror_mode": {
    "name": "ipython",
    "version": 3
   },
   "file_extension": ".py",
   "mimetype": "text/x-python",
   "name": "python",
   "nbconvert_exporter": "python",
   "pygments_lexer": "ipython3",
   "version": "3.7.3"
  }
 },
 "nbformat": 4,
 "nbformat_minor": 2
}
