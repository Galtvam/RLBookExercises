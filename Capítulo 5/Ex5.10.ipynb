{
 "cells": [
  {
   "cell_type": "markdown",
   "metadata": {},
   "source": [
    "#### Exercise 5.10:\n",
    "Derive the weighted-average update rule (5.8) from (5.7). Follow the\n",
    "pattern of the derivation of the unweighted rule (2.3)."
   ]
  },
  {
   "cell_type": "markdown",
   "metadata": {},
   "source": [
    "#### R:\n",
    "$\\\\ V_{n+1} = \\frac{\\sum_{k=1}^{n}W_{k}G_{k}}{\\sum_{k=1}^{n}W_{k}} \\\\ $  \n",
    "$\\\\ = \\frac{W_{k}G_{k} + \\sum_{k=1}^{n-1}W_{k}G_{k}}{C_{n}} \\\\ $  \n",
    "$\\\\ = \\frac{1}{C_{n}}[W_{n}G_{n} + \\sum_{k=1}^{n-1}W_{k}G_{k}] \\\\ $  \n",
    "$\\\\ = \\frac{W_{n}}{C_{n}}[G_{n} + \\frac{\\sum_{k=1}^{n-1}W_{k}G_{k}}{W_{n}}] \\\\ $  \n",
    "$\\\\ = \\frac{W_{n}}{C_{n}}[G_{n} + \\frac{1}{W_{n}} \\sum_{k=1}^{n-1}W_{k}G_{k} ] \\\\  $  \n",
    "  lembrando que $ (C_{n}-W_{n}) $ é igual a $ C_{n-1} $  \n",
    "    \n",
    "$\\\\ = \\frac{W_{n}}{C_{n}}[G_{n} + (C_{n}-W_{n}) \\frac{1}{(C_{n}-W_{n})} \\frac{1}{W_{n}} \n",
    "\\sum_{k=1}^{n-1}W_{k}G_{k}] \\\\ $  \n",
    "$\\\\ = \\frac{W_{n}}{C_{n}}[G_{n} + (C_{n}-W_{n}) V_{n} \\frac{1}{W_{n}} ] \\\\ $  \n",
    "$\\\\ = \\frac{W_{n}}{C_{n}}[G_{n} + (C_{n}V_{n} - W_{n}V_{n} ) \\frac{1}{W_{n}} ] \\\\ $  \n",
    "$\\\\ = \\frac{W_{n}}{C_{n}}[G_{n} + \\frac{C_{n}V_{n}}{W_{n}} - V_{n} ] \\\\ $  \n",
    "$\\\\ = V_{n} + \\frac{W_{n}}{C_{n}}[G_{n} - V_{n} ]$  "
   ]
  },
  {
   "cell_type": "code",
   "execution_count": null,
   "metadata": {},
   "outputs": [],
   "source": []
  }
 ],
 "metadata": {
  "kernelspec": {
   "display_name": "Python 3",
   "language": "python",
   "name": "python3"
  },
  "language_info": {
   "codemirror_mode": {
    "name": "ipython",
    "version": 3
   },
   "file_extension": ".py",
   "mimetype": "text/x-python",
   "name": "python",
   "nbconvert_exporter": "python",
   "pygments_lexer": "ipython3",
   "version": "3.7.3"
  }
 },
 "nbformat": 4,
 "nbformat_minor": 2
}
